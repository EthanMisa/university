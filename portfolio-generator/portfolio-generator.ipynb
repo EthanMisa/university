{
 "cells": [
  {
   "cell_type": "code",
   "execution_count": 1,
   "metadata": {},
   "outputs": [],
   "source": [
    "from IPython.display import display, Math, Latex\n",
    "\n",
    "import pandas as pd\n",
    "import numpy as np\n",
    "import numpy_financial as npf\n",
    "import yfinance as yf\n",
    "import matplotlib.pyplot as plt\n",
    "from datetime import datetime, timedelta, timezone\n",
    "from threading import Thread\n",
    "import random"
   ]
  },
  {
   "cell_type": "markdown",
   "metadata": {},
   "source": [
    "## CFM 101 Final Group Assignment - Automated Financial Portfolio Generator"
   ]
  },
  {
   "cell_type": "markdown",
   "metadata": {},
   "source": [
    "***\n",
    "### Runtime Note\n",
    "\n",
    "* We hope you are having a nice day $\\ddot\\smile$, our code's runtime mainly depends on the magnitude of `TRIALS` below.\n",
    "* We have tested this entire notebook on a MBP 2017 with an i5 and 8gb of RAM with a list of 150 tickers, which took approx. 4 mins to run.\n",
    "* Lowering this variable (to 100) will improve runtime to about 2 minutes, but may cost some accuracy. \n",
    "\n",
    "\n",
    "### VPN\n",
    "* Sometimes, yFinance produces Data that is delayed by a few hours, so it may not contain data from `2021-11-26`. If it does this, this just means that we are being throttled by Yahoo Finance on the University's Internet Network. Using a mobile hotspot or VPN usually produces the desired result. See @193 on Piazza.\n",
    "***"
   ]
  },
  {
   "cell_type": "code",
   "execution_count": 2,
   "metadata": {},
   "outputs": [],
   "source": [
    "TRIALS = 1000"
   ]
  },
  {
   "cell_type": "markdown",
   "metadata": {},
   "source": [
    "# Setup - Threaded\n",
    "\n",
    "* `Threading` used with permission from Professor Thompson"
   ]
  },
  {
   "cell_type": "code",
   "execution_count": 3,
   "metadata": {},
   "outputs": [],
   "source": [
    "# For daily info, we want to program this dynamically. However, getting the end day is rather tricky since \n",
    "# the stock market is only active on business days, and only has closing data after 5pm EST on a trading day.\n",
    "# This code determines a value DELTA that represents how many business days to subtract from today to get a trading day.\n",
    "now = datetime.now(timezone(timedelta(hours=-5), 'EST'))\n",
    "\n",
    "# US Markets close at 4pm, but afterhours trading ends at 8pm.\n",
    "# yFinance stubbornly only gives the day's data after 8pm, so we will wait until 9pm to pull data from\n",
    "# the current day.\n",
    "market_close = now.replace(hour=21, minute=0, second=0, microsecond=0)\n",
    "if now < market_close:\n",
    "    DELTA = 1\n",
    "# If it is saturday or sunday\n",
    "elif now.weekday() >= 5:\n",
    "    DELTA = 1\n",
    "else:\n",
    "    DELTA = 0"
   ]
  },
  {
   "cell_type": "code",
   "execution_count": 4,
   "metadata": {},
   "outputs": [
    {
     "data": {
      "text/plain": [
       "0"
      ]
     },
     "execution_count": 4,
     "metadata": {},
     "output_type": "execute_result"
    }
   ],
   "source": [
    "DELTA"
   ]
  },
  {
   "cell_type": "markdown",
   "metadata": {},
   "source": [
    "# Input Filtering\n",
    "The code below first reads in `Tickers.csv`, and follows by performing some cleanup of the tickers file to ensure they will both work properly with our code and follow the specifications of the assignment. \n",
    "\n",
    "* First, our code will remove any duplicate tickers using the `drop_duplicates()` function method. It then produces a `Tickers` object that stores **all** unique tickers from our `Tickers.csv` file.\n",
    "\n",
    "* Next, our code will initialize an empty dictionary, `ticker_info_dict`, which acts as a cache for all of our API calls.\n",
    "\n",
    "* We then call on the yFinance API to give us the info of every Ticker using the `get_info()` function. This simultaneously checks if:\n",
    "```\n",
    "* The ticker is in the correct market, it will add its `.info` into the `ticker_info_dict`. Otherwise, it will print out an error that can be seen below (if there are any).\n",
    "```\n"
   ]
  },
  {
   "cell_type": "markdown",
   "metadata": {},
   "source": [
    "***"
   ]
  },
  {
   "cell_type": "code",
   "execution_count": 5,
   "metadata": {},
   "outputs": [
    {
     "name": "stdout",
     "output_type": "stream",
     "text": [
      "Error: Stock not found | Error - sdf: 'sdf'Error: Stock not found | Error - w3432: 'w3432'\n",
      "\n",
      "Error: Stock not found | Error - d: 'd'Error: Stock not found | Error - b: 'b'\n",
      "\n",
      "Error: Stock not found | Error - cv: 'cv'\n",
      "Error: Stock not found | Error - ;v.'v.x c: \";v.'v.x c\"Error: Stock not found | Error - cx: 'cx'\n",
      "\n",
      "Error: Stock not found | Error - vx: 'vx'\n",
      "Error: Stock not found | Error - b ;;earwa: 'b ;;earwa'\n",
      "Error: Stock not found | Error -  w4r: ' w4r'\n",
      "Error: Stock not found | Error -  er: ' er'\n",
      "Error: Stock not found | Error -  gd: ' gd'\n",
      "Error: Stock not found | Error -  g: ' g'\n",
      "Error: Stock not found | Error -   d: '  d'\n",
      "Error: Stock not found | Error -   f: '  f'\n",
      "Error: Stock not found | Error -    ds: '   ds'\n",
      "Error: Stock not found | Error -    f : '   f '\n",
      "Error: Stock not found | Error - bea: 'bea'\n",
      "Error: Stock not found | Error - bean: 'bean'Error: Stock not found | Error - empty: 'empty'\n",
      "\n",
      "Error: Stock not found | Error - haha: 'haha'Error: Stock not found | Error - oki thinks fdhdsfdud: 'oki thinks fdhdsfdud'\n",
      "\n",
      "Error: Stock not found | Error - REMOVE * FROM *: 'REMOVE * FROM *'\n",
      "Error: Stock not found | Error - nAn: 'nAn'\n",
      "Error: Stock not found | Error - NaN: 'NaN'\n",
      "Error: Stock not found | Error - null: 'null'\n",
      "Error: Stock not found | Error - void: 'void'\n",
      "Error: Stock not found | Error - nothing: 'nothing'\n",
      "Found BTC-USD is not denominated in USD or in the US Market - Skipped\n",
      "Error: Stock not found | Error - TWX: 'currency'\n",
      "Found DOGE-USD is not denominated in USD or in the US Market - Skipped\n",
      "Error: Stock not found | Error - IFC: 'currency'\n",
      "Found DOGE-CAD is not denominated in USD or in the US Market - Skipped\n",
      "Error: Stock not found | Error - SNC: 'currency'\n",
      "Error: Stock not found | Error - IPL: 'currency'\n",
      "Error: Stock not found | Error - TMD: 'currency'\n",
      "Error: Stock not found | Error - FFH: 'currency'\n",
      "Error: Stock not found | Error - WSP: 'currency'\n",
      "Found BTC-CAD is not denominated in USD or in the US Market - Skipped\n",
      "Error: Stock not found | Error - NA: 'currency'\n",
      "Found ETH-USD is not denominated in USD or in the US Market - Skipped\n",
      "Error: Stock not found | Error - PCLN: 'currency'\n",
      "Found ETH-CAD is not denominated in USD or in the US Market - Skipped\n",
      "Error: Stock not found | Error - DSG: 'currency'\n",
      "Error: Stock not found | Error - CPH: 'currency'\n",
      "Found SHOP.TO is not denominated in USD or in the US Market - Skipped\n"
     ]
    }
   ],
   "source": [
    "# Setup - Threaded\n",
    "\n",
    "ticker_input = pd.read_csv('Tickers.csv', header=None, keep_default_na=False) # reads in csv file and stores it\n",
    "ticker_input.columns = [\"Tickers\"]\n",
    "ticker_input.drop_duplicates(inplace=True)\n",
    "ticker_input[\"Tickers\"] = [ticker for ticker in dict.fromkeys(ticker_input[\"Tickers\"])]\n",
    "tickers = yf.Tickers(\" \".join([ticker for ticker in ticker_input[\"Tickers\"]]))\n",
    "ticker_info_dict = {}\n",
    "\n",
    "# Checks to see if every ticker in the list is a legitimate ticker and that it trades in the \n",
    "# US market AND denominated in USD. If it does not, it will drop it from the list.\n",
    "def get_info(ticker):\n",
    "    try: \n",
    "        ticker_info = tickers.tickers[ticker].info\n",
    "        if \"market\" in ticker_info.keys():\n",
    "            # Check if the stock is listed in the US market, and denominated in USD\n",
    "            if ticker_info[\"market\"] == 'us_market' and ticker_info[\"currency\"] == 'USD':\n",
    "                ticker_info_dict[ticker] = ticker_info\n",
    "            else:\n",
    "                print(f\"Found {ticker} is not denominated in USD or in the US Market - Skipped\")\n",
    "    except KeyError as error:\n",
    "        print(f'Error: Stock not found | Error - {ticker}: {error}')\n",
    "\n",
    "# Threaded Calls\n",
    "threads = []\n",
    "\n",
    "for ticker in ticker_input[\"Tickers\"]:\n",
    "    thread = Thread(target=get_info, args=(ticker,))\n",
    "    threads.append(thread)\n",
    "    thread.start()\n",
    "\n",
    "for thread in threads:\n",
    "    thread.join()"
   ]
  },
  {
   "cell_type": "markdown",
   "metadata": {},
   "source": [
    "***\n",
    "\n",
    "## Download Stock History Data\n"
   ]
  },
  {
   "cell_type": "code",
   "execution_count": 6,
   "metadata": {},
   "outputs": [
    {
     "name": "stdout",
     "output_type": "stream",
     "text": [
      "[*********************100%***********************]  87 of 87 completed\n"
     ]
    }
   ],
   "source": [
    "# yf.download() gives us the historical data for a space-separated string-list of tickers \n",
    "# This also removes all stocks that have no stock history information. \n",
    "\n",
    "ticker_hist = yf.download(\n",
    "                tickers = \" \".join([ticker for ticker in ticker_info_dict.keys()]),\n",
    "                # Download Data From the past 6 months\n",
    "                period = \"6mo\",\n",
    "                interval = \"1d\",\n",
    "                group_by = 'ticker',\n",
    "                threads = True\n",
    "            )"
   ]
  },
  {
   "cell_type": "markdown",
   "metadata": {},
   "source": [
    "***"
   ]
  },
  {
   "cell_type": "markdown",
   "metadata": {},
   "source": [
    "### Daily volume\n",
    "* We then check if the daily volume of each ticker fulfills the requirements (`>10 000` shares per day)\n",
    "* If the stock does not have any historical data, we also drop it from our list.\n",
    "* As always, we keep a log of what is happening below the code box.\n"
   ]
  },
  {
   "cell_type": "code",
   "execution_count": 7,
   "metadata": {},
   "outputs": [],
   "source": [
    "# Initialize start dates\n",
    "daily_vol_start = '2021-07-02'\n",
    "daily_vol_end = '2021-10-22'\n",
    "\n",
    "\n",
    "# Defines a function get_daily_volume that produces the average daily volume of a stock over a specified time frame.\n",
    "# Inputs: \n",
    "# ticker is of type String, represents the ticker of a desired stock\n",
    "# start is of type String, represents the starting date of interval, default is previously defined\n",
    "# end is of type String, represents the ending date of interval, defauly is previously defined\n",
    "# Outputs:\n",
    "# output is of type Float\n",
    "\n",
    "def get_daily_volume(ticker, start=daily_vol_start, end=daily_vol_end):\n",
    "    filled_in_hist = ticker_hist.copy()\n",
    "    filled_in_hist.fillna(0, inplace=True)\n",
    "    volume = ticker_hist[ticker].loc[pd.to_datetime(start) : pd.to_datetime(end)].Volume.mean()\n",
    "    return volume"
   ]
  },
  {
   "cell_type": "code",
   "execution_count": 8,
   "metadata": {},
   "outputs": [],
   "source": [
    "# Adds all tickers in the current dataframe to a list, and removes duplicates along the way.\n",
    "ticker_list = []\n",
    "for ticker in ticker_hist.columns.to_list():\n",
    "    if ticker[0] not in ticker_list:\n",
    "        ticker_list.append(ticker[0])\n"
   ]
  },
  {
   "cell_type": "code",
   "execution_count": 9,
   "metadata": {
    "tags": []
   },
   "outputs": [
    {
     "name": "stderr",
     "output_type": "stream",
     "text": [
      "C:\\Users\\Timothy\\anaconda3\\envs\\cfm101\\lib\\site-packages\\pandas\\core\\generic.py:4150: PerformanceWarning: dropping on a non-lexsorted multi-index without a level parameter may impact performance.\n",
      "  obj = obj._drop_axis(labels, axis, level=level, errors=errors)\n"
     ]
    },
    {
     "name": "stdout",
     "output_type": "stream",
     "text": [
      "Found ticker AC has a volume < 10000 shares per day - Dropped\n",
      "Found ticker TRIL has no closing data for today - Dropped\n"
     ]
    }
   ],
   "source": [
    "# filter out stocks with average daily volume < 10 000 shares\n",
    "# as calculated based on the time interval of July 02, 2021 to October 22, 2021.\n",
    "\n",
    "filtered_tickers_info = {}\n",
    "filtered_ticker_hist = ticker_hist.copy()\n",
    "\n",
    "for ticker in ticker_list:\n",
    "    # Check if the average daily volume is less than 10,000. Otherwise, it is at least 10,000.\n",
    "    if get_daily_volume(ticker) < 10000:\n",
    "        filtered_ticker_hist = filtered_ticker_hist.drop(ticker, axis=1)\n",
    "        print(f'Found ticker {ticker} has a volume < 10000 shares per day - Dropped')\n",
    "    # Drops ticker from our historical data dataframe if it has no historical data for whatever reason\n",
    "    elif filtered_ticker_hist[ticker].dropna().empty:\n",
    "        filtered_ticker_hist = filtered_ticker_hist.drop(ticker, axis=1)\n",
    "        print(f'Found ticker {ticker} has no historical data - Dropped')\n",
    "    # Drops tickers that dont have any data for the current day\n",
    "    elif pd.isna(filtered_ticker_hist[ticker].Close.iloc[-1]):\n",
    "        filtered_ticker_hist = filtered_ticker_hist.drop(ticker, axis=1)\n",
    "        print(f'Found ticker {ticker} has no closing data for today - Dropped')\n",
    "        \n",
    "    # Otherwise, the data is good, so we add it into our filtered historical data DataFrame.\n",
    "    else:\n",
    "        filtered_tickers_info[ticker] = ticker_info_dict[ticker]\n",
    "\n",
    "# Refreshes Index\n",
    "filtered_ticker_hist.reset_index(inplace=True)\n",
    "filtered_ticker_hist.set_index(\"Date\", inplace=True)"
   ]
  },
  {
   "cell_type": "markdown",
   "metadata": {},
   "source": [
    "*** \n",
    "# Data Analytics\n",
    "\n",
    "Our strategy is to go ***risky***. Thus, our end goal is to construct a portfolio in such a way that our ending returns are the furthest away from our starting balance of 100k. This can be done in two ways; driving the portfolio down to a balance of ***zero***, or netting the largest gains from our initial capital. Because our strategy will benefit regardless of the direction of movement, and instead will depend on the ***amount*** of movement, we need to create a portfolio that nets the greatest volatility, and also consists of stocks that move in the **same direction**. Our portfolio will consist of the minimum amount of allowed companies, `10`. With this amount, we will be able to guarantee that there is minimal diversification caused by exposure to the market. Remember, we want the most returns, positive or negative, so diversification is something that we will ***avoid***. \n",
    "\n",
    "We have two different strategies that we will use for our portfolio:\n",
    "\n",
    "#### Ranking Betas\n",
    "Our first approach involves calculating the beta of each ticker, and then ranking them amongst each other. We will then compare the magnitude of the average beta of the top ten and bottom ten stocks on the list. The higher mean will be the one we choose to build the first portfolio. This will then result in a portfolio that is:\n",
    "* Positively correlated, and\n",
    "* Volatile in comparison to the market \n",
    "\n",
    "These two factors will allow us to take advantage of the least market diversification, and highest volume of change. First of all, being correlated to the market indirectly produces a positive correlation between each of the companies in the portfolio. This will ensure that any movement in the price of Stock A in the portfolio will likely be reflected in the price movements of Stock B, ignoring non-market factors such as some company-specific influence. However, for the sake of the competition, it is extremely unlikely that such an event will occur with only a portfolio of ten stocks.\n",
    "\n",
    "***\n",
    "## Using Beta"
   ]
  },
  {
   "cell_type": "code",
   "execution_count": 10,
   "metadata": {},
   "outputs": [],
   "source": [
    "# We will start by defining some parameters.\n",
    "\n",
    "# We are interested in finding relatively recent data that will reveal more about the \n",
    "# present conditions of the stocks.\n",
    "start_date = (datetime.now() - timedelta(days=60)).strftime(\"%Y-%m-%d\")\n",
    "end_date = (datetime.now() - pd.tseries.offsets.BDay(DELTA)).strftime(\"%Y-%m-%d\")"
   ]
  },
  {
   "cell_type": "markdown",
   "metadata": {},
   "source": [
    "* ### 1) Getting a Market Index"
   ]
  },
  {
   "cell_type": "code",
   "execution_count": 11,
   "metadata": {},
   "outputs": [],
   "source": [
    "MarketIndex = \"^GSPC\" # We will compare each stock's covariance to the S&P 500\n",
    "\n",
    "market_hist = yf.Ticker(MarketIndex).history(start=start_date, end=end_date).filter(like=\"Close\")\n",
    "market_hist[\"Returns\"] = market_hist[\"Close\"].pct_change()*100\n",
    "\n",
    "market_var = market_hist[\"Returns\"].var()\n",
    "\n",
    "# stock_returns is a series of stock returns\n",
    "\n",
    "# get_stock_beta produces the beta of a specified ticker\n",
    "# Inputs:\n",
    "# stock_returns_series is of type Series, represents the column of a dataframe of the returns of the price\n",
    "\n",
    "def get_stock_beta(stock_returns_series, marketVar=market_var):\n",
    "    binary_portfolio = market_hist[[\"Returns\"]].copy()\n",
    "    binary_portfolio[\"stock\"] = stock_returns_series\n",
    "    return (binary_portfolio.cov() / marketVar)['stock'].loc[\"Returns\"]\n",
    "\n",
    "\n",
    "#get_all_betas takes a list of tickers and outputs a list of all the betas of every\n",
    "# ticker in the list.\n",
    "\n",
    "def get_all_betas(ticker_list):\n",
    "    betas = {}\n",
    "    for ticker in ticker_list:\n",
    "        ticker_returns = filtered_ticker_hist[ticker][['Close']].pct_change()*100\n",
    "        betas[ticker] = get_stock_beta(ticker_returns['Close'])\n",
    "    return betas"
   ]
  },
  {
   "cell_type": "code",
   "execution_count": 12,
   "metadata": {},
   "outputs": [],
   "source": [
    "#Creates a dataframe with keys being tickers and corresponding to their values, the ticker's beta\n",
    "beta_dict = get_all_betas(filtered_tickers_info.keys())\n",
    "beta_df = pd.DataFrame.from_dict(beta_dict, orient='index')\n",
    "beta_df.columns = ['Beta']\n",
    "beta_df.index.name = 'Ticker'"
   ]
  },
  {
   "cell_type": "code",
   "execution_count": 13,
   "metadata": {},
   "outputs": [],
   "source": [
    "#Sorts the dictionary from lowest beta to highest beta\n",
    "sorted_beta_df = beta_df.sort_values('Beta').copy()\n",
    "\n",
    "#Creates a dataframe with the 10 lowest betas and 10 highest betas.\n",
    "lower_bound = sorted_beta_df.iloc[:10]\n",
    "upper_bound = sorted_beta_df.iloc[-10:]"
   ]
  },
  {
   "cell_type": "markdown",
   "metadata": {},
   "source": [
    "### Below, we have the list of the companies with the 10 lowest betas. "
   ]
  },
  {
   "cell_type": "code",
   "execution_count": 14,
   "metadata": {},
   "outputs": [
    {
     "data": {
      "text/html": [
       "<div>\n",
       "<style scoped>\n",
       "    .dataframe tbody tr th:only-of-type {\n",
       "        vertical-align: middle;\n",
       "    }\n",
       "\n",
       "    .dataframe tbody tr th {\n",
       "        vertical-align: top;\n",
       "    }\n",
       "\n",
       "    .dataframe thead th {\n",
       "        text-align: right;\n",
       "    }\n",
       "</style>\n",
       "<table border=\"1\" class=\"dataframe\">\n",
       "  <thead>\n",
       "    <tr style=\"text-align: right;\">\n",
       "      <th></th>\n",
       "      <th>Beta</th>\n",
       "    </tr>\n",
       "    <tr>\n",
       "      <th>Ticker</th>\n",
       "      <th></th>\n",
       "    </tr>\n",
       "  </thead>\n",
       "  <tbody>\n",
       "    <tr>\n",
       "      <th>PFE</th>\n",
       "      <td>-1.167959</td>\n",
       "    </tr>\n",
       "    <tr>\n",
       "      <th>ENGH</th>\n",
       "      <td>-0.716830</td>\n",
       "    </tr>\n",
       "    <tr>\n",
       "      <th>BMY</th>\n",
       "      <td>-0.129617</td>\n",
       "    </tr>\n",
       "    <tr>\n",
       "      <th>MRK</th>\n",
       "      <td>-0.092125</td>\n",
       "    </tr>\n",
       "    <tr>\n",
       "      <th>MO</th>\n",
       "      <td>-0.017988</td>\n",
       "    </tr>\n",
       "    <tr>\n",
       "      <th>MON</th>\n",
       "      <td>-0.006274</td>\n",
       "    </tr>\n",
       "    <tr>\n",
       "      <th>PM</th>\n",
       "      <td>0.058273</td>\n",
       "    </tr>\n",
       "    <tr>\n",
       "      <th>T</th>\n",
       "      <td>0.206294</td>\n",
       "    </tr>\n",
       "    <tr>\n",
       "      <th>CL</th>\n",
       "      <td>0.216375</td>\n",
       "    </tr>\n",
       "    <tr>\n",
       "      <th>PG</th>\n",
       "      <td>0.253071</td>\n",
       "    </tr>\n",
       "  </tbody>\n",
       "</table>\n",
       "</div>"
      ],
      "text/plain": [
       "            Beta\n",
       "Ticker          \n",
       "PFE    -1.167959\n",
       "ENGH   -0.716830\n",
       "BMY    -0.129617\n",
       "MRK    -0.092125\n",
       "MO     -0.017988\n",
       "MON    -0.006274\n",
       "PM      0.058273\n",
       "T       0.206294\n",
       "CL      0.216375\n",
       "PG      0.253071"
      ]
     },
     "execution_count": 14,
     "metadata": {},
     "output_type": "execute_result"
    }
   ],
   "source": [
    "lower_bound"
   ]
  },
  {
   "cell_type": "markdown",
   "metadata": {},
   "source": [
    "### Below, we have the list of the companies with the 10 highest betas. "
   ]
  },
  {
   "cell_type": "code",
   "execution_count": 15,
   "metadata": {},
   "outputs": [
    {
     "data": {
      "text/html": [
       "<div>\n",
       "<style scoped>\n",
       "    .dataframe tbody tr th:only-of-type {\n",
       "        vertical-align: middle;\n",
       "    }\n",
       "\n",
       "    .dataframe tbody tr th {\n",
       "        vertical-align: top;\n",
       "    }\n",
       "\n",
       "    .dataframe thead th {\n",
       "        text-align: right;\n",
       "    }\n",
       "</style>\n",
       "<table border=\"1\" class=\"dataframe\">\n",
       "  <thead>\n",
       "    <tr style=\"text-align: right;\">\n",
       "      <th></th>\n",
       "      <th>Beta</th>\n",
       "    </tr>\n",
       "    <tr>\n",
       "      <th>Ticker</th>\n",
       "      <th></th>\n",
       "    </tr>\n",
       "  </thead>\n",
       "  <tbody>\n",
       "    <tr>\n",
       "      <th>GM</th>\n",
       "      <td>1.561377</td>\n",
       "    </tr>\n",
       "    <tr>\n",
       "      <th>SU</th>\n",
       "      <td>1.607744</td>\n",
       "    </tr>\n",
       "    <tr>\n",
       "      <th>AXP</th>\n",
       "      <td>1.696138</td>\n",
       "    </tr>\n",
       "    <tr>\n",
       "      <th>BA</th>\n",
       "      <td>1.727981</td>\n",
       "    </tr>\n",
       "    <tr>\n",
       "      <th>SPG</th>\n",
       "      <td>1.749109</td>\n",
       "    </tr>\n",
       "    <tr>\n",
       "      <th>BB</th>\n",
       "      <td>1.777889</td>\n",
       "    </tr>\n",
       "    <tr>\n",
       "      <th>CAE</th>\n",
       "      <td>1.834861</td>\n",
       "    </tr>\n",
       "    <tr>\n",
       "      <th>OXY</th>\n",
       "      <td>1.966557</td>\n",
       "    </tr>\n",
       "    <tr>\n",
       "      <th>CVE</th>\n",
       "      <td>1.978665</td>\n",
       "    </tr>\n",
       "    <tr>\n",
       "      <th>ERF</th>\n",
       "      <td>2.583734</td>\n",
       "    </tr>\n",
       "  </tbody>\n",
       "</table>\n",
       "</div>"
      ],
      "text/plain": [
       "            Beta\n",
       "Ticker          \n",
       "GM      1.561377\n",
       "SU      1.607744\n",
       "AXP     1.696138\n",
       "BA      1.727981\n",
       "SPG     1.749109\n",
       "BB      1.777889\n",
       "CAE     1.834861\n",
       "OXY     1.966557\n",
       "CVE     1.978665\n",
       "ERF     2.583734"
      ]
     },
     "execution_count": 15,
     "metadata": {},
     "output_type": "execute_result"
    }
   ],
   "source": [
    "upper_bound"
   ]
  },
  {
   "cell_type": "markdown",
   "metadata": {},
   "source": [
    "### Below, we will determine which list of stocks nets the highest magnitude of beta"
   ]
  },
  {
   "cell_type": "code",
   "execution_count": 16,
   "metadata": {},
   "outputs": [
    {
     "data": {
      "text/plain": [
       "['GM', 'SU', 'AXP', 'BA', 'SPG', 'BB', 'CAE', 'OXY', 'CVE', 'ERF']"
      ]
     },
     "execution_count": 16,
     "metadata": {},
     "output_type": "execute_result"
    }
   ],
   "source": [
    "# Gets the final stock list we want\n",
    "\n",
    "#Calculates the mean of the upper and lower list of betas\n",
    "avg_upper = upper_bound['Beta'].mean()\n",
    "avg_lower = lower_bound['Beta'].mean()\n",
    "\n",
    "# Compares the averages of the two and makes the one with the higher absolute value a \n",
    "# candidate for our final list of stocks.\n",
    "if abs(avg_upper) >= abs(avg_lower):\n",
    "    beta_final_ticker_list = list(upper_bound.index)\n",
    "else:\n",
    "    beta_final_ticker_list = list(lower_bound.index)\n",
    "    \n",
    "# Prints out the potential list.\n",
    "beta_final_ticker_list"
   ]
  },
  {
   "cell_type": "markdown",
   "metadata": {},
   "source": [
    "This list of stocks is _one of two_ candidates for our final portfolio. This one has the highest magnitude of beta, which then results in the highest chance for the stocks to move in relation and in great amplitude."
   ]
  },
  {
   "cell_type": "markdown",
   "metadata": {
    "tags": []
   },
   "source": [
    "***\n",
    "## Naked Options Analysis\n",
    "* `PUTS` If there are alot of in the money put options expiring soon (relative to the avg volume) then the stock price will increase because those long the put will have to purhcase shares to sell to those short the put.\n",
    "\n",
    "* `CALLS` If there are alot of in the money call options expiring soon (relative to the avg volume) then the stock price will also increase because those short the call will have to purchase shares to sell to those long the call.\n",
    "\n",
    "* This analysis is predicated on the assumption that the majority of calls and puts are bought or sold without the buyer or seller, depending on if it is a put or call option respectively, **owning** the stock for the contract. \n",
    "\n",
    "* Instead, on the expiry date of the contract, these individuals will purchase the stock at the market price if the contract is exercised. At a large enough volume, this will cause the stock price to go up since buyers are forced to purchase the stock, regardless of the price, resulting in a price inelastic demand curve for the company’s shares. Since this only works for the state of the options contract near the exercise date, we only analyze the past week’s options data.\n",
    "\n",
    "* Our code will pull the number of in the money options contracts for each stock that we have complete historical data for into a dictionary `options_interest_dict` as a cache for our api calls.\n",
    "* If our code does not find any options data for the stock, we will ignore it and move on to the next stock.\n",
    "* Below is a list of the stocks with the highest ratio of in the money options compared to its daily volume. If there are less than 10 stocks in this list, the code will not use this list to determine the final portfolio.\n",
    "***"
   ]
  },
  {
   "cell_type": "code",
   "execution_count": 17,
   "metadata": {},
   "outputs": [],
   "source": [
    "# get_option_interest takes in a ticker and outputs the total number of in the money options expiring within a week\n",
    "def get_option_interest(ticker):\n",
    "    stock = yf.Ticker(ticker)\n",
    "    options = stock.option_chain(stock.options[0])\n",
    "    calls = pd.DataFrame().append(options.calls)\n",
    "    puts = pd.DataFrame().append(options.puts)\n",
    "    option_interest = calls.loc[calls['inTheMoney']]['openInterest'].sum() + puts.loc[puts['inTheMoney']]['openInterest'].sum()\n",
    "    return option_interest"
   ]
  },
  {
   "cell_type": "code",
   "execution_count": 18,
   "metadata": {},
   "outputs": [
    {
     "name": "stdout",
     "output_type": "stream",
     "text": [
      "Dropped OTEX - no data\n",
      "Dropped WCN - no data\n",
      "Dropped CM - no dataDropped IMO - no data\n",
      "Dropped MON - no data\n",
      "\n",
      "Dropped SLF - no data\n",
      "Dropped TRI - no data\n",
      "Dropped ENGH - no data\n",
      "Dropped CAE - no data\n",
      "Dropped BNS - no data\n",
      "Dropped BMO - no data\n",
      "Dropped CTS - no data\n",
      "Dropped CSU - no data\n",
      "Dropped TRP - no data\n"
     ]
    }
   ],
   "source": [
    "# We will now parse through the entire stock list to import all of the options data for the second analysis.\n",
    "\n",
    "option_interest_dict = {}\n",
    "opt_start = (datetime.now() - timedelta(days=7)).strftime(\"%Y-%m-%d\")\n",
    "opt_end = (datetime.now() - pd.tseries.offsets.BDay(DELTA)).strftime(\"%Y-%m-%d\")\n",
    "\n",
    "def import_options(ticker):\n",
    "    try:\n",
    "        open_interest = get_option_interest(ticker)\n",
    "        daily_vol = get_daily_volume(ticker, start=opt_start, end=opt_end)\n",
    "        option_interest_dict[ticker] = open_interest / daily_vol\n",
    "    # yFinance's historical data is sometimes incomplete. This try except will catch any tickers that have insufficient data and drops them from our analysis.\n",
    "    except IndexError as error:\n",
    "        print(f'Dropped {ticker} - no data')   \n",
    "\n",
    "# Threaded Calls\n",
    "threads = []\n",
    "\n",
    "for ticker in list(filtered_tickers_info.keys()):\n",
    "    thread = Thread(target=import_options, args=(ticker,))\n",
    "    threads.append(thread)\n",
    "    thread.start()\n",
    "\n",
    "for thread in threads:\n",
    "    thread.join()"
   ]
  },
  {
   "cell_type": "code",
   "execution_count": 19,
   "metadata": {},
   "outputs": [
    {
     "name": "stdout",
     "output_type": "stream",
     "text": [
      "      Option Interest / dailyVol\n",
      "GM                      0.010267\n",
      "AMZN                    0.010993\n",
      "SLB                     0.011616\n",
      "BIIB                    0.011776\n",
      "ACB                     0.013752\n",
      "UPS                     0.015071\n",
      "GOOG                    0.016257\n",
      "SPG                     0.016993\n",
      "BHC                     0.020913\n",
      "CVS                     0.021753\n"
     ]
    }
   ],
   "source": [
    "if len(option_interest_dict.keys()) >= 10:\n",
    "    # Creates a dataframe that corresponds tickers with the option interest over the daily volume\n",
    "    option_interest_df = pd.DataFrame.from_dict(option_interest_dict, orient='index')\n",
    "    option_interest_df.columns = ['Option Interest / dailyVol']\n",
    "    sorted_option_interest_df = option_interest_df.sort_values('Option Interest / dailyVol').copy()\n",
    "    sorted_option_interest_df.dropna(inplace=True)\n",
    "    final_option_df = sorted_option_interest_df.tail(10)\n",
    "    print(final_option_df)\n",
    "else:\n",
    "    print('Error - Insufficient options data for tickers in Tickers.csv, skipping...')"
   ]
  },
  {
   "cell_type": "code",
   "execution_count": 20,
   "metadata": {},
   "outputs": [
    {
     "name": "stdout",
     "output_type": "stream",
     "text": [
      "['GM', 'AMZN', 'SLB', 'BIIB', 'ACB', 'UPS', 'GOOG', 'SPG', 'BHC', 'CVS']\n"
     ]
    }
   ],
   "source": [
    "if len(option_interest_dict.keys()) >= 10:\n",
    "    # Creates a new list of 10 tickers that will be the second candidate for our final list of 10 tickers.\n",
    "    opt_tickers = list(final_option_df.index)\n",
    "    print(opt_tickers)"
   ]
  },
  {
   "cell_type": "markdown",
   "metadata": {},
   "source": [
    "# Portfolio Weightings"
   ]
  },
  {
   "cell_type": "markdown",
   "metadata": {},
   "source": [
    "To determine how our final output portfolio should be weighted, we have two options:\n",
    "\n",
    "### Option `1`\n",
    "\n",
    "We can iterate through **all** permutations of weightings for all of the stocks in our final stock list (10 stocks), which indeed is less than the inputted list of tickers (>10 stocks), but we quickly find that this is quite computationally intensive. For example, if we take a similar approach as we did in `Assignment 4`, each stock could possibly have a weight of $35\\% - 5\\%$ different values (since each stock can only have a minumum of $\\frac{100}{2 \\times 10} = 5\\% $, and a maximum of $35\\%$) supposing that the granularity of our weights are 1%, while the rest of the list of stocks would each have to share all possible permuations of $ 100 - \\text{weight of Stock A} $. \n",
    "\n",
    "Some math tells us that the number of iterations that we would need to loop through are:\n",
    "\n",
    "* At a minimum (easy for calculation, sufficient for explanation), let's assume that each stock can only have a very restrictive 10 unique weights. Then the permutations that we would need to compute are: $10^{10}$ permutations, which is a lot.\n",
    "\n",
    "*So, we need to find a more efficient way to calculate our weights.*\n",
    "\n",
    "***\n",
    "### Option `2`\n",
    "* We might not need to calculate all iterations. That is, an approximately optimal weight is still acceptable. \n",
    "\n",
    "So, we can pick **random** weights, and somehow **quantify** the portfolio in such a way that we can rank them and pick the best one of those to be our \"optimal\" portfolio.\n",
    "\n",
    "**This method is also referred to as the Monte Carlo Method**, which is a method commonly used in finance when there are too many variables to analytically determine the best weight.\n",
    "\n",
    "* First, we need to come up with a way to randomize weightings that fit our criteria.\n",
    "\n",
    "#### Observe that:\n",
    "\n",
    "$$ \\Large{\\frac{n_1}{\\sum_{i=1}^{10} n_i} + \\frac{n_2}{\\sum_{i=1}^{10} n_i} + \\ldots + \\frac{n_{10}}{\\sum_{i=1}^{10} n_i} = \\text{1,  } \\text{where } n \\in \\mathbb{R^+}} $$\n",
    "\n",
    "### So what?\n",
    "* This means that we can use this relationship to randomize our weightings. For example, if we had:\n",
    "```\n",
    "n1 =  random.random()\n",
    "n2 =  random.random()\n",
    ".\n",
    ".\n",
    ".\n",
    "n10 =  random.random()\n",
    "```\n",
    "\n",
    "Then,\n",
    "```\n",
    "numbers = [n1, n2, ..., n10]\n",
    "for number in numbers:\n",
    "    number /= sum of numbers\n",
    "```\n",
    "And we then have that\n",
    "```\n",
    "sum(numbers) = 1\n",
    "```\n",
    "\n",
    "### The actual code to get this result is shown below"
   ]
  },
  {
   "cell_type": "code",
   "execution_count": 21,
   "metadata": {},
   "outputs": [],
   "source": [
    "weightings = []\n",
    "min_weight = 0.05\n",
    "max_weight = 0.35\n",
    "\n",
    "# get_weight_list randomly generates a list of 10 numbers from 0 to 1 that correspond to the weightings of each stock\n",
    "def get_weight_list():\n",
    "    # We will pick 10 random numbers from a range of 100 numbers\n",
    "    # random.sample is O(n), so we want to minimize this number\n",
    "    random_num_list = random.sample(range(100), 10)\n",
    "    \n",
    "    listsum = sum(random_num_list)\n",
    "    for i in range(len(random_num_list)):\n",
    "        random_num_list[i] /= listsum\n",
    "        \n",
    "    # Check if the randomized weightings match those from the assignment's specifications.\n",
    "    if (min(random_num_list) < min_weight) or (max(random_num_list) > max_weight):\n",
    "        # If not, recurse back and try again\n",
    "        return get_weight_list()\n",
    "    else:\n",
    "        return random_num_list"
   ]
  },
  {
   "cell_type": "markdown",
   "metadata": {},
   "source": [
    "***\n",
    "# Monte Carlo Method\n",
    "\n",
    "As stated before, to calculate weightings, we can run 2000 iterations of randomized weightings to approximate what an ideal weighting would be. Of course, running more iterations will net greater accuracy, however at a cost of more computation time. For the sake of the assignment, we chose to only run 2000 iterations as we believe it to be sufficient, while also not hoarding loads of runtime.\n",
    "\n",
    "### However, before that:\n",
    "\n",
    "* We still need some way to quantify our portfolios such that we can rank them at the end.\n",
    "* In `Assignment 4`, we ranked portfolios using their Sharpe Ratios to find the best weighting. Now, we will do something similar.\n",
    "***"
   ]
  },
  {
   "cell_type": "markdown",
   "metadata": {},
   "source": [
    "### \"\"\"Risk Coefficent\"\"\"\n",
    "* In `Assignment 4`, we used the Sharpe Ratio to quantify how well the portfolio performs per unit risk. However, for this assignment, we do not care too much about how our returns stack up **per** unit risk. Instead, we just want a portfolio that will yield us a high magnitude of return (positive or negative), and also stocks that will have high amounts of volatility so that they move as much as possible.\n",
    "\n",
    "Thus, We will modify the sharpe ratio equation to **reward** high volatility stocks. \n",
    "\n",
    "Recall the equation for the Sharpe Ratio:\n",
    "\n",
    "$$ S=\\frac{R_P-R_f}{\\sigma_P} $$\n",
    "\n",
    "* So we can quantify the risk and reward coefficient of a portfolio by multiplying the sharpe ratio by the variance (standard deviation squared)\n",
    "\n",
    "\\begin{align*}\n",
    "R_\\alpha &= S \\times \\sigma_p^2\\\\\n",
    "&= \\frac{R_p - R_f}{\\sigma_p} \\times \\sigma_p^2\\\\\n",
    "&= \\left(R_p - R_f \\right) \\sigma_p\\\\\n",
    "\\end{align*}\n",
    "\n",
    "* We get rewarded for having high returns, but we also get rewarded for having high risk due to multiplication.\n",
    "* To not have to deal with negative values, we will square both sides to obtain some positive amount that only accounts for the magnitude of the risk of the portfolio times the return of the stock squared.\n",
    "\n",
    "$$ R_\\alpha =  \\left[{\\left(R_p - R_f \\right) \\sigma_p}\\right]^2 $$\n",
    "\n",
    "***\n",
    "After calculating each portfolio's ${R_\\alpha}$, we can now compare them amongst each other, with higher ${R_\\alpha}$ being more desireable. (note: we can just take the max() of these values to get the best weights later).\n",
    "\n",
    "# Code:"
   ]
  },
  {
   "cell_type": "code",
   "execution_count": 22,
   "metadata": {},
   "outputs": [],
   "source": [
    "# On weekends, or holidays, the entire market will not have any data. Therefore, we will be removing just those to make our return numbers more accurate.\n",
    "# since we are working on smaller timescales.\n",
    "\n",
    "# Cryptocurrencies will have data on weekends and holidays, and afterhours, but:\n",
    "# Note that any Cryptocurrency is not traded on US markets (according to yFinance at least), so they were dropped. \n",
    "# Therefore, we do not need to worry about these messing with our data.\n",
    "\n",
    "# Drops all rows if and only if the entire row is empty.\n",
    "filtered_ticker_hist.dropna(how='all', inplace=True)\n",
    "\n",
    "# Fills all remaining spots in the dataframe that do not have data.\n",
    "filtered_ticker_hist.fillna(method='ffill', inplace=True)\n",
    "filtered_ticker_hist.fillna(method='bfill', inplace=True)"
   ]
  },
  {
   "cell_type": "code",
   "execution_count": 23,
   "metadata": {},
   "outputs": [],
   "source": [
    "# monte_carlo is a function that determines the optimal amount of shares to buy for each stock and what the \n",
    "# risk coefficient would be.\n",
    "def monte_carlo(weight_list, start_date, end_date, ticker_list, r_f=0, cash=100000):\n",
    "    portfolio = pd.DataFrame(index=pd.date_range(start=start_date, end=end_date))\n",
    "    \n",
    "    portfolio_shares = {}\n",
    "    total = 0\n",
    "    for i in range(len(ticker_list)):\n",
    "        allocation = weight_list[i] * cash\n",
    "        # Simulate purchasing $100,000 worth of shares at the beginning of the time period\n",
    "        initial_ticker_price = filtered_ticker_hist[ticker_list[i]].Close.iloc[0]\n",
    "        shares = allocation / initial_ticker_price\n",
    "        \n",
    "        # Alongside this, create a portfolio of shares with the same weightings, but priced in the present.\n",
    "        present_ticker_price = filtered_ticker_hist[ticker_list[i]].Close.loc[end_date]\n",
    "        shares_present = allocation / present_ticker_price\n",
    "        portfolio_shares[ticker_list[i]] = shares_present\n",
    "        total += present_ticker_price * shares_present\n",
    "        \n",
    "        # Simulate Purchasing of the shares and perform analysis on the past data\n",
    "        portfolio[ticker_list[i]] = shares * filtered_ticker_hist[ticker_list[i]].loc[pd.to_datetime(start_date) : pd.to_datetime(end_date)].Close\n",
    "    portfolio.dropna(how='all', inplace=True)\n",
    "    portfolio.fillna(method='ffill', inplace=True)\n",
    "    portfolio.fillna(method='bfill', inplace=True)\n",
    "    portfolio['Total Value'] = portfolio.sum(axis=1)\n",
    "    portfolio['Percent Return'] = portfolio['Total Value'].pct_change() * 100\n",
    "\n",
    "    std = portfolio['Percent Return'].std()\n",
    "    avg_return = portfolio['Percent Return'].mean()\n",
    "    risk_coefficient = (avg_return * std) ** 2\n",
    "    return (risk_coefficient, portfolio_shares)\n",
    "    "
   ]
  },
  {
   "cell_type": "markdown",
   "metadata": {},
   "source": [
    "\n",
    "# Running the Monte Carlo Simulation"
   ]
  },
  {
   "cell_type": "code",
   "execution_count": 24,
   "metadata": {},
   "outputs": [
    {
     "data": {
      "text/plain": [
       "{'GM': 143.98799800259656,\n",
       " 'SU': 346.0154368112557,\n",
       " 'AXP': 39.77408335505635,\n",
       " 'BA': 56.792152593646094,\n",
       " 'SPG': 91.03754080575513,\n",
       " 'BB': 613.7479790805365,\n",
       " 'CAE': 319.75150450268274,\n",
       " 'OXY': 168.69096163835331,\n",
       " 'CVE': 1078.6489547519845,\n",
       " 'ERF': 1680.702020383795}"
      ]
     },
     "execution_count": 24,
     "metadata": {},
     "output_type": "execute_result"
    }
   ],
   "source": [
    "# Number of trials; the higher this number, the more accurate our approximation is, but the slower it becomes.\n",
    "trials = TRIALS\n",
    "\n",
    "#Applies the Monte Carlo method to find the optimal weighting for the first potential candidate\n",
    "\n",
    "start_day = (datetime.now() - timedelta(days=60)).strftime(\"%Y-%m-%d\")\n",
    "end_day = (datetime.now() - pd.tseries.offsets.BDay(DELTA)).strftime(\"%Y-%m-%d\")\n",
    "beta_risk_coefficients = {}\n",
    "\n",
    "# We will be trading space efficiency for time efficiency\n",
    "def run_monte_carlo(start, end, tickers):\n",
    "    weight_list = get_weight_list()\n",
    "    result = monte_carlo(weight_list, start, end, tickers)\n",
    "    beta_risk_coefficients[result[0]] = result[1]\n",
    "\n",
    "        \n",
    "# Threaded Calls\n",
    "threads = []\n",
    "\n",
    "for i in range(trials):\n",
    "    thread = Thread(target=run_monte_carlo, args=(start_day, end_day, beta_final_ticker_list))\n",
    "    threads.append(thread)\n",
    "    thread.start()\n",
    "\n",
    "for thread in threads:\n",
    "    thread.join()\n",
    "\n",
    "\n",
    "# deprecated code to run custom weights\n",
    "def run_monte_carlo_custom(start, end, weight_list, tickers=beta_final_ticker_list):\n",
    "    result = monte_carlo(weight_list, start, end, tickers)\n",
    "    beta_risk_coefficients[result[0]] = result[1]\n",
    "\n",
    "\n",
    "optimal_weight = beta_risk_coefficients[max(beta_risk_coefficients.keys())]\n",
    "optimal_weight"
   ]
  },
  {
   "cell_type": "code",
   "execution_count": 25,
   "metadata": {},
   "outputs": [
    {
     "name": "stdout",
     "output_type": "stream",
     "text": [
      "The maximum risk coefficient for our beta portfolio was 0.04238588320411071\n"
     ]
    }
   ],
   "source": [
    "print(f'The maximum risk coefficient for our beta portfolio was {max(beta_risk_coefficients.keys())}')"
   ]
  },
  {
   "cell_type": "markdown",
   "metadata": {},
   "source": [
    "# Results of our simulation\n",
    "* Below is a histogram that shows the distribution of our risk coefficients for each iteration of our simulation. We chose the highest one as the \"riskiest\" portfolio since it is the portfolio with the highest magnitude of standard deviation times returns, as shown in the proof above.\n",
    "* So, the portfolios to the right of the graph are more risky, and thus more desireable for us compared to those way on the left."
   ]
  },
  {
   "cell_type": "code",
   "execution_count": 26,
   "metadata": {},
   "outputs": [
    {
     "data": {
      "image/png": "[encoded data removed]",
      "text/plain": [
       "<Figure size 1800x720 with 1 Axes>"
      ]
     },
     "metadata": {
      "needs_background": "light"
     },
     "output_type": "display_data"
    }
   ],
   "source": [
    "#Plots the distribution of risk coefficients.\n",
    "plt.figure(figsize=(25,10))\n",
    "\n",
    "plt.hist(beta_risk_coefficients, bins=25)\n",
    "plt.title('Risk Coefficients')\n",
    "plt.xlabel('Coefficient')\n",
    "plt.ylabel('Frequency')\n",
    "\n",
    "plt.show()"
   ]
  },
  {
   "cell_type": "markdown",
   "metadata": {},
   "source": [
    "### Risk Coefficient Histogram\n",
    "* Above, we have the distribution of the risk coefficients of the various itterations from the simulation. Notice, that there is distinct region with higher frequency. This is caused from the nature of stock weightings. From this graph, we can conclude that it is easier to acheive lower/average risk coefficients compared to those with higher risk coefficients at the right."
   ]
  },
  {
   "cell_type": "markdown",
   "metadata": {
    "tags": []
   },
   "source": [
    "# We will also create a backdated plot comparing the portfolio with the lowest risk coefficient to the one with the highest risk coefficient."
   ]
  },
  {
   "cell_type": "code",
   "execution_count": 27,
   "metadata": {},
   "outputs": [],
   "source": [
    "low_coeff_beta_shares = beta_risk_coefficients[min(beta_risk_coefficients.keys())]\n",
    "low_coeff_beta_df = pd.DataFrame()\n",
    "low_coeff_beta_df.index = filtered_ticker_hist.index\n",
    "for ticker in list(low_coeff_beta_shares.keys()):\n",
    "    low_coeff_beta_df[ticker] = filtered_ticker_hist[ticker].Close * low_coeff_beta_shares[ticker]\n",
    "low_coeff_beta_df['Portfolio Value'] = low_coeff_beta_df.sum(axis=1)"
   ]
  },
  {
   "cell_type": "code",
   "execution_count": 28,
   "metadata": {},
   "outputs": [],
   "source": [
    "high_coeff_beta_shares = beta_risk_coefficients[max(beta_risk_coefficients.keys())]\n",
    "high_coeff_beta_df = pd.DataFrame()\n",
    "high_coeff_beta_df.index = filtered_ticker_hist.index\n",
    "for ticker in list(high_coeff_beta_shares.keys()):\n",
    "    high_coeff_beta_df[ticker] = filtered_ticker_hist[ticker].Close * high_coeff_beta_shares[ticker]\n",
    "high_coeff_beta_df['Portfolio Value'] = high_coeff_beta_df.sum(axis=1)"
   ]
  },
  {
   "cell_type": "code",
   "execution_count": 29,
   "metadata": {
    "tags": []
   },
   "outputs": [
    {
     "data": {
      "image/png": "[encoded data removed]",
      "text/plain": [
       "<Figure size 1800x720 with 1 Axes>"
      ]
     },
     "metadata": {
      "needs_background": "light"
     },
     "output_type": "display_data"
    }
   ],
   "source": [
    "#Plots the distribution of risk coefficients.\n",
    "plt.figure(figsize=(25,10))\n",
    "\n",
    "plt.plot(low_coeff_beta_df.index, low_coeff_beta_df['Portfolio Value'], color='blue', label='Lowest Risk Coefficient')\n",
    "plt.plot(high_coeff_beta_df.index, high_coeff_beta_df['Portfolio Value'], color='red', label='Highest Risk Coefficient')\n",
    "\n",
    "# Plot line that connects first day's price to current price\n",
    "plt.plot([high_coeff_beta_df.index[0], high_coeff_beta_df.index[-1]], [high_coeff_beta_df['Portfolio Value'].iloc[0], high_coeff_beta_df['Portfolio Value'].iloc[-1]], color='purple', linewidth=3, linestyle=':')\n",
    "plt.plot([low_coeff_beta_df.index[0], low_coeff_beta_df.index[-1]], [low_coeff_beta_df['Portfolio Value'].iloc[0], low_coeff_beta_df['Portfolio Value'].iloc[-1]], color='black', linewidth=3, linestyle=':')\n",
    "\n",
    "plt.legend(loc='best')\n",
    "plt.title('Comparison of Low vs. High Risk Coefficient Portfolios')\n",
    "plt.xlabel('Date')\n",
    "plt.ylabel('Portfolio Value ($USD)')\n",
    "\n",
    "plt.show()"
   ]
  },
  {
   "cell_type": "markdown",
   "metadata": {},
   "source": [
    "### Comparison of Low vs. High Risk Coefficient Portfolios\n",
    "* As you can see, we have back tested both portfolios and plotted the average return lines (connects first and last points). The portfolio with the higher risk coefficient has ***a much*** higher slope in relation to the portfolio with the lower risk coefficient. This then proves that the higher the risk coefficient, the greater the magnitude of change is. \n",
    "* Note, that the direction of change is apparent on both portfolios since they contain the same stocks. However, the weightings of stocks are drastically different, which results in the amplitude of change being different. "
   ]
  },
  {
   "cell_type": "markdown",
   "metadata": {},
   "source": [
    "*** \n",
    "# Options Analysis"
   ]
  },
  {
   "cell_type": "code",
   "execution_count": 30,
   "metadata": {},
   "outputs": [],
   "source": [
    "if len(option_interest_dict.keys()) >= 10:\n",
    "    # Number of iterations - Larger Numbers produce higher accuracy but take longer\n",
    "    trials = TRIALS\n",
    "\n",
    "    #Uses the Monte Carlo Method on the second potential final list (the one derived from options analysis)\n",
    "    start_day = (datetime.now() - timedelta(days=60)).strftime(\"%Y-%m-%d\")\n",
    "    opt_end = (datetime.now() - pd.tseries.offsets.BDay(DELTA)).strftime(\"%Y-%m-%d\")\n",
    "    options_risk_coefficients = {}\n",
    "\n",
    "    # We will be trading space efficiency for time efficiency\n",
    "    def run_monte_carlo_opt(start, end, tickers):\n",
    "        weight_list = get_weight_list()\n",
    "        result = monte_carlo(weight_list, start, end, tickers)\n",
    "        options_risk_coefficients[result[0]] = result[1]\n",
    "\n",
    "\n",
    "    # Threaded Calls\n",
    "    threads = []\n",
    "\n",
    "    for i in range(trials):\n",
    "        thread = Thread(target=run_monte_carlo_opt, args=(start_day, end_day, opt_tickers))\n",
    "        threads.append(thread)\n",
    "        thread.start()\n",
    "\n",
    "    for thread in threads:\n",
    "        thread.join()\n",
    "\n",
    "    # deprecated code to run custom weights    \n",
    "    def run_monte_carlo_custom_opt(start, end, weight_list, tickers=opt_tickers):\n",
    "        result = monte_carlo(weight_list, start, end, tickers)\n",
    "        options_risk_coefficients[result[0]] = result[1]\n",
    "\n",
    "else:\n",
    "    print('Error - Insufficient Options Data for tickers in Tickers.csv, skipping analysis...')"
   ]
  },
  {
   "cell_type": "code",
   "execution_count": 31,
   "metadata": {},
   "outputs": [
    {
     "data": {
      "text/plain": [
       "{'GM': 143.98799800259656,\n",
       " 'SU': 346.0154368112557,\n",
       " 'AXP': 39.77408335505635,\n",
       " 'BA': 56.792152593646094,\n",
       " 'SPG': 91.03754080575513,\n",
       " 'BB': 613.7479790805365,\n",
       " 'CAE': 319.75150450268274,\n",
       " 'OXY': 168.69096163835331,\n",
       " 'CVE': 1078.6489547519845,\n",
       " 'ERF': 1680.702020383795}"
      ]
     },
     "execution_count": 31,
     "metadata": {},
     "output_type": "execute_result"
    }
   ],
   "source": [
    "optimal_weight"
   ]
  },
  {
   "cell_type": "code",
   "execution_count": 32,
   "metadata": {},
   "outputs": [
    {
     "name": "stdout",
     "output_type": "stream",
     "text": [
      "The maximum risk coefficient for our beta portfolio was 0.009451681515909237\n"
     ]
    }
   ],
   "source": [
    "if len(option_interest_dict.keys()) >= 10:\n",
    "    print(f'The maximum risk coefficient for our beta portfolio was {max(options_risk_coefficients.keys())}')"
   ]
  },
  {
   "cell_type": "markdown",
   "metadata": {},
   "source": [
    "### Below, is the histogram of the distribution of risk coefficients of the iterations of the options method"
   ]
  },
  {
   "cell_type": "code",
   "execution_count": 33,
   "metadata": {},
   "outputs": [
    {
     "data": {
      "image/png": "[encoded data removed]",
      "text/plain": [
       "<Figure size 1800x720 with 1 Axes>"
      ]
     },
     "metadata": {
      "needs_background": "light"
     },
     "output_type": "display_data"
    }
   ],
   "source": [
    "if len(option_interest_dict.keys()) >= 10:\n",
    "    # Plots the risk coefficients of all the weights of the second final list candidate\n",
    "    plt.figure(figsize=(25,10))\n",
    "\n",
    "    plt.hist(options_risk_coefficients, bins=25)\n",
    "    plt.title('Risk Coefficients')\n",
    "    plt.xlabel('Coefficient')\n",
    "    plt.ylabel('Frequency')\n",
    "\n",
    "    plt.show()"
   ]
  },
  {
   "cell_type": "markdown",
   "metadata": {},
   "source": [
    "* Note, we are not able to show a backtested plot for the range of portfolios from the options analysis as it relies on very recent data, so it is only effective in the forwards direction. These stocks may not have been correlated in the past, but we expect them to be correlated in the short term in the future, so for the sake of the competition, this method is quite effective."
   ]
  },
  {
   "cell_type": "markdown",
   "metadata": {},
   "source": [
    "***\n",
    "# Final Portfolio Approach\n",
    "* Now that we have completed the simulations for both methods, we can now compare our results to see which one provides us with a more desireable (higher) risk coefficient."
   ]
  },
  {
   "cell_type": "code",
   "execution_count": 34,
   "metadata": {},
   "outputs": [
    {
     "data": {
      "image/png": "[encoded data removed]",
      "text/plain": [
       "<Figure size 1800x720 with 1 Axes>"
      ]
     },
     "metadata": {
      "needs_background": "light"
     },
     "output_type": "display_data"
    }
   ],
   "source": [
    "if len(option_interest_dict.keys()) >= 10:\n",
    "    # Plots the risk coefficients of all the weights of the second final list candidate\n",
    "    plt.figure(figsize=(25,10))\n",
    "\n",
    "\n",
    "    plt.hist(beta_risk_coefficients, bins=25, color='blue', alpha=0.50, label='Beta Analysis')\n",
    "    plt.hist(options_risk_coefficients, bins=25, color='red', alpha=0.5, label='Options Analysis')\n",
    "    plt.legend(loc='best')\n",
    "    plt.title('Risk Coefficients')\n",
    "    plt.xlabel('Coefficient')\n",
    "    plt.ylabel('Frequency')\n",
    "\n",
    "    plt.show()"
   ]
  },
  {
   "cell_type": "markdown",
   "metadata": {},
   "source": [
    "* We can see the comparison between both methods above. Our program will choose the portfolio with the highest risk coefficient, regardless of whichever method it came from."
   ]
  },
  {
   "cell_type": "markdown",
   "metadata": {},
   "source": [
    "***\n",
    "## Comparing the two methods\n",
    "\n",
    "* After we have calculated the \"best\" portfolios for each method, we will determine which one is best before outputting it as the final portfolio."
   ]
  },
  {
   "cell_type": "code",
   "execution_count": 35,
   "metadata": {},
   "outputs": [],
   "source": [
    "final_risk_coefficients_dict = beta_risk_coefficients.copy()\n",
    "\n",
    "if len(option_interest_dict.keys()) >= 10:\n",
    "    final_risk_coefficients_dict.update(options_risk_coefficients)"
   ]
  },
  {
   "cell_type": "code",
   "execution_count": 36,
   "metadata": {},
   "outputs": [],
   "source": [
    "final_optimal_weight = final_risk_coefficients_dict[max(final_risk_coefficients_dict.keys())]"
   ]
  },
  {
   "cell_type": "code",
   "execution_count": 37,
   "metadata": {},
   "outputs": [
    {
     "name": "stdout",
     "output_type": "stream",
     "text": [
      "The data used for the final portfolio came from the Beta Method\n"
     ]
    }
   ],
   "source": [
    "if len(option_interest_dict.keys()) < 10:\n",
    "    print(\"The data used for the final portfolio came from the Beta Method\")\n",
    "    \n",
    "elif final_optimal_weight in beta_risk_coefficients.values():\n",
    "    print(\"The data used for the final portfolio came from the Beta Method\")\n",
    "    \n",
    "else:\n",
    "    print(\"The data used for the final portfolio came from the Options Method\")\n",
    "    "
   ]
  },
  {
   "cell_type": "code",
   "execution_count": 38,
   "metadata": {},
   "outputs": [],
   "source": [
    "# Moves final_optimal_weight into a dataframe.\n",
    "final_stocks_df = pd.DataFrame.from_dict(final_optimal_weight, orient='index')\n",
    "final_stocks_df.reset_index(inplace=True)\n",
    "final_stocks_df.columns = ['Ticker', 'Shares']"
   ]
  },
  {
   "cell_type": "code",
   "execution_count": 39,
   "metadata": {},
   "outputs": [
    {
     "data": {
      "text/html": [
       "<div>\n",
       "<style scoped>\n",
       "    .dataframe tbody tr th:only-of-type {\n",
       "        vertical-align: middle;\n",
       "    }\n",
       "\n",
       "    .dataframe tbody tr th {\n",
       "        vertical-align: top;\n",
       "    }\n",
       "\n",
       "    .dataframe thead th {\n",
       "        text-align: right;\n",
       "    }\n",
       "</style>\n",
       "<table border=\"1\" class=\"dataframe\">\n",
       "  <thead>\n",
       "    <tr style=\"text-align: right;\">\n",
       "      <th></th>\n",
       "      <th>Ticker</th>\n",
       "      <th>Shares</th>\n",
       "    </tr>\n",
       "  </thead>\n",
       "  <tbody>\n",
       "    <tr>\n",
       "      <th>0</th>\n",
       "      <td>GM</td>\n",
       "      <td>143.987998</td>\n",
       "    </tr>\n",
       "    <tr>\n",
       "      <th>1</th>\n",
       "      <td>SU</td>\n",
       "      <td>346.015437</td>\n",
       "    </tr>\n",
       "    <tr>\n",
       "      <th>2</th>\n",
       "      <td>AXP</td>\n",
       "      <td>39.774083</td>\n",
       "    </tr>\n",
       "    <tr>\n",
       "      <th>3</th>\n",
       "      <td>BA</td>\n",
       "      <td>56.792153</td>\n",
       "    </tr>\n",
       "    <tr>\n",
       "      <th>4</th>\n",
       "      <td>SPG</td>\n",
       "      <td>91.037541</td>\n",
       "    </tr>\n",
       "    <tr>\n",
       "      <th>5</th>\n",
       "      <td>BB</td>\n",
       "      <td>613.747979</td>\n",
       "    </tr>\n",
       "    <tr>\n",
       "      <th>6</th>\n",
       "      <td>CAE</td>\n",
       "      <td>319.751505</td>\n",
       "    </tr>\n",
       "    <tr>\n",
       "      <th>7</th>\n",
       "      <td>OXY</td>\n",
       "      <td>168.690962</td>\n",
       "    </tr>\n",
       "    <tr>\n",
       "      <th>8</th>\n",
       "      <td>CVE</td>\n",
       "      <td>1078.648955</td>\n",
       "    </tr>\n",
       "    <tr>\n",
       "      <th>9</th>\n",
       "      <td>ERF</td>\n",
       "      <td>1680.702020</td>\n",
       "    </tr>\n",
       "  </tbody>\n",
       "</table>\n",
       "</div>"
      ],
      "text/plain": [
       "  Ticker       Shares\n",
       "0     GM   143.987998\n",
       "1     SU   346.015437\n",
       "2    AXP    39.774083\n",
       "3     BA    56.792153\n",
       "4    SPG    91.037541\n",
       "5     BB   613.747979\n",
       "6    CAE   319.751505\n",
       "7    OXY   168.690962\n",
       "8    CVE  1078.648955\n",
       "9    ERF  1680.702020"
      ]
     },
     "execution_count": 39,
     "metadata": {},
     "output_type": "execute_result"
    }
   ],
   "source": [
    "final_stocks_df"
   ]
  },
  {
   "cell_type": "markdown",
   "metadata": {},
   "source": [
    "## Create final output DataFrame\n",
    "* Finally, we have our desired list of stocks, along with their respective weightings. We can now build our final portfolio.\n",
    "* We will first format the DataFrame to meet the assignment specifications."
   ]
  },
  {
   "cell_type": "code",
   "execution_count": 40,
   "metadata": {},
   "outputs": [],
   "source": [
    "# Create a new DataFrame that matches the assignment requirements\n",
    "FinalPortfolio = pd.DataFrame(final_stocks_df['Ticker'].copy())\n",
    "\n",
    "# Create a series of closing prices for the tickers in our final portfolio\n",
    "closing_prices = [filtered_ticker_hist[ticker].Close.loc[end_day] for ticker in FinalPortfolio['Ticker'].values]\n",
    "\n",
    "# Add necessary columns to the final DataFrame, as required\n",
    "FinalPortfolio['Price'] = pd.Series(closing_prices)\n",
    "FinalPortfolio['Shares'] = final_stocks_df['Shares']\n",
    "FinalPortfolio['Value'] = FinalPortfolio['Shares'] * FinalPortfolio['Price']\n",
    "\n",
    "FinalPortfolio['Weight'] = FinalPortfolio['Value'] / FinalPortfolio['Value'].sum()\n",
    "FinalPortfolio.index += 1"
   ]
  },
  {
   "cell_type": "markdown",
   "metadata": {},
   "source": [
    "***\n",
    "# Double Check that Stock Values add to $100,000"
   ]
  },
  {
   "cell_type": "code",
   "execution_count": 41,
   "metadata": {},
   "outputs": [
    {
     "name": "stdout",
     "output_type": "stream",
     "text": [
      "The portfolio's total value is $100000.00\n"
     ]
    }
   ],
   "source": [
    "print(f\"The portfolio's total value is ${FinalPortfolio['Value'].sum():.2f}\")"
   ]
  },
  {
   "cell_type": "code",
   "execution_count": 42,
   "metadata": {},
   "outputs": [
    {
     "name": "stdout",
     "output_type": "stream",
     "text": [
      "The total weight of all stocks in the portfolio is 100%\n"
     ]
    }
   ],
   "source": [
    "print(f\"The total weight of all stocks in the portfolio is {FinalPortfolio['Weight'].sum()*100:.0f}%\")"
   ]
  },
  {
   "cell_type": "markdown",
   "metadata": {},
   "source": [
    "***\n",
    "# Output Final DataFrame as CSV"
   ]
  },
  {
   "cell_type": "code",
   "execution_count": 43,
   "metadata": {},
   "outputs": [],
   "source": [
    "FinalPortfolio[['Ticker', 'Shares']].to_csv('Portfolio.csv')"
   ]
  },
  {
   "cell_type": "code",
   "execution_count": 44,
   "metadata": {
    "tags": []
   },
   "outputs": [
    {
     "data": {
      "text/html": [
       "<div>\n",
       "<style scoped>\n",
       "    .dataframe tbody tr th:only-of-type {\n",
       "        vertical-align: middle;\n",
       "    }\n",
       "\n",
       "    .dataframe tbody tr th {\n",
       "        vertical-align: top;\n",
       "    }\n",
       "\n",
       "    .dataframe thead th {\n",
       "        text-align: right;\n",
       "    }\n",
       "</style>\n",
       "<table border=\"1\" class=\"dataframe\">\n",
       "  <thead>\n",
       "    <tr style=\"text-align: right;\">\n",
       "      <th></th>\n",
       "      <th>Ticker</th>\n",
       "      <th>Price</th>\n",
       "      <th>Shares</th>\n",
       "      <th>Value</th>\n",
       "      <th>Weight</th>\n",
       "    </tr>\n",
       "  </thead>\n",
       "  <tbody>\n",
       "    <tr>\n",
       "      <th>1</th>\n",
       "      <td>GM</td>\n",
       "      <td>57.430000</td>\n",
       "      <td>143.987998</td>\n",
       "      <td>8269.230769</td>\n",
       "      <td>0.082692</td>\n",
       "    </tr>\n",
       "    <tr>\n",
       "      <th>2</th>\n",
       "      <td>SU</td>\n",
       "      <td>25.010000</td>\n",
       "      <td>346.015437</td>\n",
       "      <td>8653.846154</td>\n",
       "      <td>0.086538</td>\n",
       "    </tr>\n",
       "    <tr>\n",
       "      <th>3</th>\n",
       "      <td>AXP</td>\n",
       "      <td>164.389999</td>\n",
       "      <td>39.774083</td>\n",
       "      <td>6538.461538</td>\n",
       "      <td>0.065385</td>\n",
       "    </tr>\n",
       "    <tr>\n",
       "      <th>4</th>\n",
       "      <td>BA</td>\n",
       "      <td>203.169998</td>\n",
       "      <td>56.792153</td>\n",
       "      <td>11538.461538</td>\n",
       "      <td>0.115385</td>\n",
       "    </tr>\n",
       "    <tr>\n",
       "      <th>5</th>\n",
       "      <td>SPG</td>\n",
       "      <td>158.429993</td>\n",
       "      <td>91.037541</td>\n",
       "      <td>14423.076923</td>\n",
       "      <td>0.144231</td>\n",
       "    </tr>\n",
       "    <tr>\n",
       "      <th>6</th>\n",
       "      <td>BB</td>\n",
       "      <td>9.400000</td>\n",
       "      <td>613.747979</td>\n",
       "      <td>5769.230769</td>\n",
       "      <td>0.057692</td>\n",
       "    </tr>\n",
       "    <tr>\n",
       "      <th>7</th>\n",
       "      <td>CAE</td>\n",
       "      <td>25.260000</td>\n",
       "      <td>319.751505</td>\n",
       "      <td>8076.923077</td>\n",
       "      <td>0.080769</td>\n",
       "    </tr>\n",
       "    <tr>\n",
       "      <th>8</th>\n",
       "      <td>OXY</td>\n",
       "      <td>29.639999</td>\n",
       "      <td>168.690962</td>\n",
       "      <td>5000.000000</td>\n",
       "      <td>0.050000</td>\n",
       "    </tr>\n",
       "    <tr>\n",
       "      <th>9</th>\n",
       "      <td>CVE</td>\n",
       "      <td>12.480000</td>\n",
       "      <td>1078.648955</td>\n",
       "      <td>13461.538462</td>\n",
       "      <td>0.134615</td>\n",
       "    </tr>\n",
       "    <tr>\n",
       "      <th>10</th>\n",
       "      <td>ERF</td>\n",
       "      <td>10.870000</td>\n",
       "      <td>1680.702020</td>\n",
       "      <td>18269.230769</td>\n",
       "      <td>0.182692</td>\n",
       "    </tr>\n",
       "  </tbody>\n",
       "</table>\n",
       "</div>"
      ],
      "text/plain": [
       "   Ticker       Price       Shares         Value    Weight\n",
       "1      GM   57.430000   143.987998   8269.230769  0.082692\n",
       "2      SU   25.010000   346.015437   8653.846154  0.086538\n",
       "3     AXP  164.389999    39.774083   6538.461538  0.065385\n",
       "4      BA  203.169998    56.792153  11538.461538  0.115385\n",
       "5     SPG  158.429993    91.037541  14423.076923  0.144231\n",
       "6      BB    9.400000   613.747979   5769.230769  0.057692\n",
       "7     CAE   25.260000   319.751505   8076.923077  0.080769\n",
       "8     OXY   29.639999   168.690962   5000.000000  0.050000\n",
       "9     CVE   12.480000  1078.648955  13461.538462  0.134615\n",
       "10    ERF   10.870000  1680.702020  18269.230769  0.182692"
      ]
     },
     "execution_count": 44,
     "metadata": {},
     "output_type": "execute_result"
    }
   ],
   "source": [
    "FinalPortfolio"
   ]
  }
 ],
 "metadata": {
  "kernelspec": {
   "display_name": "venv1",
   "language": "python",
   "name": "venv1"
  },
  "language_info": {
   "codemirror_mode": {
    "name": "ipython",
    "version": 3
   },
   "file_extension": ".py",
   "mimetype": "text/x-python",
   "name": "python",
   "nbconvert_exporter": "python",
   "pygments_lexer": "ipython3",
   "version": "3.9.7"
  }
 },
 "nbformat": 4,
 "nbformat_minor": 4
}
